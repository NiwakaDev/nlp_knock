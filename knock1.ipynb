{
  "nbformat": 4,
  "nbformat_minor": 0,
  "metadata": {
    "colab": {
      "name": "knock1.ipynb",
      "provenance": [],
      "collapsed_sections": []
    },
    "kernelspec": {
      "name": "python3",
      "display_name": "Python 3"
    }
  },
  "cells": [
    {
      "cell_type": "code",
      "metadata": {
        "colab": {
          "base_uri": "https://localhost:8080/",
          "height": 35
        },
        "id": "rw6LeVJCajdC",
        "outputId": "a03ad58c-e520-4a8c-caf2-91a924481430"
      },
      "source": [
        "#00\n",
        "s = \"stressed\"\n",
        "s[::-1]"
      ],
      "execution_count": 4,
      "outputs": [
        {
          "output_type": "execute_result",
          "data": {
            "application/vnd.google.colaboratory.intrinsic+json": {
              "type": "string"
            },
            "text/plain": [
              "'desserts'"
            ]
          },
          "metadata": {
            "tags": []
          },
          "execution_count": 4
        }
      ]
    },
    {
      "cell_type": "code",
      "metadata": {
        "colab": {
          "base_uri": "https://localhost:8080/",
          "height": 35
        },
        "id": "kwpqQBanaqwk",
        "outputId": "b712fce1-7afd-4d16-d491-cf155458205a"
      },
      "source": [
        "#01\n",
        "s = \"パタトクカシーー\"\n",
        "\n",
        "s[0::2]"
      ],
      "execution_count": 6,
      "outputs": [
        {
          "output_type": "execute_result",
          "data": {
            "application/vnd.google.colaboratory.intrinsic+json": {
              "type": "string"
            },
            "text/plain": [
              "'パトカー'"
            ]
          },
          "metadata": {
            "tags": []
          },
          "execution_count": 6
        }
      ]
    },
    {
      "cell_type": "code",
      "metadata": {
        "colab": {
          "base_uri": "https://localhost:8080/",
          "height": 35
        },
        "id": "63rDgp-datKf",
        "outputId": "92597bdf-de64-4078-ab3a-012ac825ce74"
      },
      "source": [
        "#02\n",
        "s1 = \"パトカー\"\n",
        "s2 = \"タクシー\"\n",
        "\n",
        "ans = \"\"\n",
        "for w1, w2 in zip(s1, s2):\n",
        "    ans += w1+w2\n",
        "ans"
      ],
      "execution_count": 8,
      "outputs": [
        {
          "output_type": "execute_result",
          "data": {
            "application/vnd.google.colaboratory.intrinsic+json": {
              "type": "string"
            },
            "text/plain": [
              "'パタトクカシーー'"
            ]
          },
          "metadata": {
            "tags": []
          },
          "execution_count": 8
        }
      ]
    },
    {
      "cell_type": "code",
      "metadata": {
        "colab": {
          "base_uri": "https://localhost:8080/"
        },
        "id": "RrIwiUFhbNB2",
        "outputId": "c4b6b0ab-ad6b-4732-a013-3716ce7c8eb3"
      },
      "source": [
        "#03\n",
        "import re\n",
        "\n",
        "sentence = \"Now I need a drink, alcoholic of course, after the heavy lectures involving quantum mechanics.\"\n",
        "\n",
        "sentence = sentence.lower()\n",
        "sentence = re.sub(r'(\\w+),',  r'\\1 , ', sentence)\n",
        "sentence = sentence.replace(\".\", \" .\")\n",
        "\n",
        "word2cnt = {}  #頻度テーブル\n",
        "order_list = []  #順序の管理\n",
        "\n",
        "ans = []\n",
        "\n",
        "for word in sentence.split():\n",
        "    try: \n",
        "        word2cnt[word] += 1\n",
        "    except:\n",
        "        order_list.append(word)\n",
        "        word2cnt[word] = 1\n",
        "    \n",
        "for word, cnt in word2cnt.items():\n",
        "    ans.append((word, cnt))\n",
        "ans"
      ],
      "execution_count": 28,
      "outputs": [
        {
          "output_type": "execute_result",
          "data": {
            "text/plain": [
              "[('now', 1),\n",
              " ('i', 1),\n",
              " ('need', 1),\n",
              " ('a', 1),\n",
              " ('drink', 1),\n",
              " (',', 2),\n",
              " ('alcoholic', 1),\n",
              " ('of', 1),\n",
              " ('course', 1),\n",
              " ('after', 1),\n",
              " ('the', 1),\n",
              " ('heavy', 1),\n",
              " ('lectures', 1),\n",
              " ('involving', 1),\n",
              " ('quantum', 1),\n",
              " ('mechanics', 1),\n",
              " ('.', 1)]"
            ]
          },
          "metadata": {
            "tags": []
          },
          "execution_count": 28
        }
      ]
    },
    {
      "cell_type": "code",
      "metadata": {
        "colab": {
          "base_uri": "https://localhost:8080/"
        },
        "id": "fiuMTJ3Xbl8P",
        "outputId": "4e70c987-b3e0-45d7-f097-9028e093ab0f"
      },
      "source": [
        "#04\n",
        "\n",
        "s = \"Hi He Lied Because Boron Could Not Oxidize Fluorine. New Nations Might Also Sign Peace Security Clause. Arthur King Can.\"\n",
        "s = s.replace(\".\", \" . \")\n",
        "s = re.sub(r\"[' ']+\", r' ', s)\n",
        "\n",
        "word2loc = {}\n",
        "\n",
        "#1, 5, 6, 7, 8, 9, 15, 16, 19\n",
        "table = set([1, 5, 6, 7, 8, 9, 15, 16, 19])\n",
        "for idx, word in enumerate(s.split()):\n",
        "    if idx in table:\n",
        "        word2cnt[word[0]] = idx\n",
        "        continue\n",
        "    word2cnt[word[0:2]] = idx\n",
        "word2cnt"
      ],
      "execution_count": 34,
      "outputs": [
        {
          "output_type": "execute_result",
          "data": {
            "text/plain": [
              "{',': 2,\n",
              " '.': 22,\n",
              " 'A': 19,\n",
              " 'Al': 13,\n",
              " 'Be': 3,\n",
              " 'Bo': 4,\n",
              " 'C': 5,\n",
              " 'Ca': 21,\n",
              " 'Cl': 17,\n",
              " 'F': 8,\n",
              " 'H': 1,\n",
              " 'Hi': 0,\n",
              " 'Ki': 20,\n",
              " 'Li': 2,\n",
              " 'Mi': 12,\n",
              " 'N': 6,\n",
              " 'Na': 11,\n",
              " 'Ne': 10,\n",
              " 'O': 7,\n",
              " 'P': 15,\n",
              " 'S': 16,\n",
              " 'Si': 14,\n",
              " 'a': 1,\n",
              " 'after': 1,\n",
              " 'alcoholic': 1,\n",
              " 'course': 1,\n",
              " 'drink': 1,\n",
              " 'heavy': 1,\n",
              " 'i': 1,\n",
              " 'involving': 1,\n",
              " 'lectures': 1,\n",
              " 'mechanics': 1,\n",
              " 'need': 1,\n",
              " 'now': 1,\n",
              " 'of': 1,\n",
              " 'quantum': 1,\n",
              " 'the': 1}"
            ]
          },
          "metadata": {
            "tags": []
          },
          "execution_count": 34
        }
      ]
    },
    {
      "cell_type": "code",
      "metadata": {
        "colab": {
          "base_uri": "https://localhost:8080/"
        },
        "id": "2lZ7WeLucOfq",
        "outputId": "6035565b-8c7f-4ff7-a5d1-377ae321b5c3"
      },
      "source": [
        "#05\n",
        "def ngram(text, ngram=1, mode=\"word\"):\n",
        "    if mode==\"word\":\n",
        "        ans = []\n",
        "        words = text.split()\n",
        "        for idx in range(0, len(words)-ngram+1):\n",
        "            t = []\n",
        "            for j in range(ngram):\n",
        "                t.append(words[idx+j])\n",
        "\n",
        "            ans.append(\" \".join(t))\n",
        "\n",
        "        return ans\n",
        "\n",
        "    if mode==\"chr\":\n",
        "        ans = []\n",
        "        words = \"\".join(text.split())\n",
        "        for idx in range(0, len(words)-ngram+1):\n",
        "            t = []\n",
        "            for j in range(ngram):\n",
        "                t.append(words[idx+j])\n",
        "\n",
        "            ans.append(\"\".join(t))\n",
        "\n",
        "        return ans\n",
        "\n",
        "s = \"I am an NLPer\"\n",
        "\n",
        "#単語のngram\n",
        "print(\"word_ngram\")\n",
        "for n in range(1, 4, 1):\n",
        "    print(str(n)+\"gram : \", ngram(s, n, \"word\"))\n",
        "\n",
        "#文字のngram\n",
        "print(\"\\nchr_ngram\")\n",
        "for n in range(1, 4, 1):\n",
        "    print(str(n)+\"gram : \", ngram(s, n, \"chr\"))\n"
      ],
      "execution_count": 54,
      "outputs": [
        {
          "output_type": "stream",
          "text": [
            "word_ngram\n",
            "1gram :  ['I', 'am', 'an', 'NLPer']\n",
            "2gram :  ['I am', 'am an', 'an NLPer']\n",
            "3gram :  ['I am an', 'am an NLPer']\n",
            "\n",
            "chr_ngram\n",
            "1gram :  ['I', 'a', 'm', 'a', 'n', 'N', 'L', 'P', 'e', 'r']\n",
            "2gram :  ['Ia', 'am', 'ma', 'an', 'nN', 'NL', 'LP', 'Pe', 'er']\n",
            "3gram :  ['Iam', 'ama', 'man', 'anN', 'nNL', 'NLP', 'LPe', 'Per']\n"
          ],
          "name": "stdout"
        }
      ]
    },
    {
      "cell_type": "code",
      "metadata": {
        "colab": {
          "base_uri": "https://localhost:8080/"
        },
        "id": "gE2tNpNKdrkp",
        "outputId": "a8f6c92a-99a2-48e3-f7d0-66661519f7b0"
      },
      "source": [
        "#06\n",
        "set1 = set(ngram(\"paraparaparadise\", 2, \"chr\"))\n",
        "set2 = set(ngram(\"paragraph\", 2, \"chr\"))\n",
        "\n",
        "print(\"和集合\", set1 | set2)\n",
        "print(\"積集合\", set1 & set2)\n",
        "print(\"差集合\", set1 - set2)\n",
        "\n",
        "if \"se\" in set1:\n",
        "    print(\"set1には含まれています。\")\n",
        "if \"se\" in set2:\n",
        "    print(\"set2には含まれています。\") "
      ],
      "execution_count": 57,
      "outputs": [
        {
          "output_type": "stream",
          "text": [
            "和集合 {'gr', 'se', 'ag', 'pa', 'ad', 'ph', 'is', 'ar', 'ap', 'di', 'ra'}\n",
            "積集合 {'ap', 'ar', 'pa', 'ra'}\n",
            "差集合 {'se', 'ad', 'is', 'di'}\n",
            "set1には含まれています。\n"
          ],
          "name": "stdout"
        }
      ]
    },
    {
      "cell_type": "code",
      "metadata": {
        "colab": {
          "base_uri": "https://localhost:8080/",
          "height": 35
        },
        "id": "eaYU5kRKfhYk",
        "outputId": "ca0244c1-464e-455e-a729-48d69923d063"
      },
      "source": [
        "#07\n",
        "def f(x, y, z):\n",
        "    return str(x)+\"時の\"+y+\"は\"+str(z)\n",
        "\n",
        "f(12, \"気温\", 22.4)"
      ],
      "execution_count": 58,
      "outputs": [
        {
          "output_type": "execute_result",
          "data": {
            "application/vnd.google.colaboratory.intrinsic+json": {
              "type": "string"
            },
            "text/plain": [
              "'12時の気温は22.4'"
            ]
          },
          "metadata": {
            "tags": []
          },
          "execution_count": 58
        }
      ]
    },
    {
      "cell_type": "code",
      "metadata": {
        "colab": {
          "base_uri": "https://localhost:8080/"
        },
        "id": "UGsOM70jhUZ2",
        "outputId": "a3719809-2539-4e51-d325-c23ff2558f79"
      },
      "source": [
        "#08\n",
        "def decode(text):\n",
        "    decoded_text = []\n",
        "    for w in text:\n",
        "        if w.islower():\n",
        "            decoded_text.append(ord(w))\n",
        "        else:\n",
        "            decoded_text.append(w)\n",
        "\n",
        "    return decoded_text\n",
        "\n",
        "def encode(decoded_text):\n",
        "    encoded_text = \"\"\n",
        "\n",
        "    for w in decoded_text:\n",
        "        if type(w)==int:\n",
        "            encoded_text += chr(w) + \"\"\n",
        "        else:\n",
        "            encoded_text += w + \"\"\n",
        "    return encoded_text.strip()\n",
        "\n",
        "print(\"decoded_text : \", decode(\"I am an NLPer\"))\n",
        "print(\"encoded_text : \", encode(decode(\"I am an NLPer\")))"
      ],
      "execution_count": 61,
      "outputs": [
        {
          "output_type": "stream",
          "text": [
            "decoded_text :  ['I', ' ', 97, 109, ' ', 97, 110, ' ', 'N', 'L', 'P', 101, 114]\n",
            "encoded_text :  I am an NLPer\n"
          ],
          "name": "stdout"
        }
      ]
    },
    {
      "cell_type": "code",
      "metadata": {
        "colab": {
          "base_uri": "https://localhost:8080/"
        },
        "id": "0gdlXMoPiwuB",
        "outputId": "8edd44a2-aea5-4f73-e42b-44fd704dced6"
      },
      "source": [
        "#09\n",
        "import random \n",
        "\n",
        "def TypoglycemiaPermalink(text):\n",
        "    words = text.split()\n",
        "\n",
        "    ans = []\n",
        "\n",
        "    for word in words:\n",
        "        if len(word)<=4:\n",
        "            ans.append(word)\n",
        "            continue\n",
        "        new_word = \"\"\n",
        "        shuffled_word = list(word)[1:-1]\n",
        "        random.shuffle(shuffled_word)\n",
        "        new_word += word[0]\n",
        "        for c in shuffled_word:\n",
        "            new_word += c\n",
        "        new_word += word[-1]\n",
        "        ans.append(new_word)\n",
        "\n",
        "    return ans\n",
        "\n",
        "TypoglycemiaPermalink(\"I couldn’t believe that I could actually understand what I was reading : the phenomenal power of the human mind .\")"
      ],
      "execution_count": 64,
      "outputs": [
        {
          "output_type": "execute_result",
          "data": {
            "text/plain": [
              "['I',\n",
              " 'c’donlut',\n",
              " 'bileeve',\n",
              " 'that',\n",
              " 'I',\n",
              " 'colud',\n",
              " 'acaultly',\n",
              " 'urtaennsdd',\n",
              " 'what',\n",
              " 'I',\n",
              " 'was',\n",
              " 'rdeaing',\n",
              " ':',\n",
              " 'the',\n",
              " 'paeneohnml',\n",
              " 'pwoer',\n",
              " 'of',\n",
              " 'the',\n",
              " 'hmaun',\n",
              " 'mind',\n",
              " '.']"
            ]
          },
          "metadata": {
            "tags": []
          },
          "execution_count": 64
        }
      ]
    },
    {
      "cell_type": "code",
      "metadata": {
        "id": "nleO9-2tkCtz"
      },
      "source": [
        ""
      ],
      "execution_count": null,
      "outputs": []
    }
  ]
}